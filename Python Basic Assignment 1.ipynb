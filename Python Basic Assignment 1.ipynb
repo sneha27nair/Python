{
 "cells": [
  {
   "cell_type": "markdown",
   "metadata": {},
   "source": [
    "***1. the below elements which of them are values or an expression? eg:- values can be integer or string and expressions will be mathematical operators:-***\n",
    "\n",
    "    \"* - expresssion\n",
    "    'hello' - value\n",
    "    \"-87.8\" - value\n",
    "    \"-\" - expresssion\n",
    "    \"/\" - expresssion\n",
    "    \"+\" - expresssion\n",
    "    \"6\" - value"
   ]
  },
  {
   "cell_type": "markdown",
   "metadata": {},
   "source": [
    "***2. What is the difference between string and variable?***\n",
    "\n",
    "Variable - is like a container to store any data/information.\n",
    "\n",
    "String - is a data so that we can fill up the variable. It is a type of information. They are usuallly an alphabet,word or group of words.\n",
    "\n",
    "x = \"hi all\"\n",
    "\n",
    "Here , x - variable\n",
    "\"hi all\" - string data type"
   ]
  },
  {
   "cell_type": "markdown",
   "metadata": {},
   "source": [
    "***3. Describe three different data types.***\n",
    "\n",
    "Ans - Python has the following data types built-in by default, in these categories:\n",
    "\n",
    "1. Text Type:\tstr\n",
    "\n",
    "String is sequence of Unicode characters. We can use single quotes or double quotes to represent strings. Multi-line strings can be denoted using triple quotes\n",
    "\n",
    "\n",
    "2. Numeric Types:\tint, float, complex\n",
    "\n",
    "        a. Integers can be of any length, it is only limited by the memory available. 1 is an integer\n",
    "\n",
    "        b. A floating-point number is accurate up to 15 decimal places. Integer and floating points are separated by decimal            points.1.0 is a floating-point number.\n",
    "\n",
    "        c. Complex numbers are written in the form, x + yj, where x is the real part and y is the imaginary part\n",
    "\n",
    "3. Sequence Types:\tlist, tuple, range\n",
    "\n",
    "4. Mapping Type:\tdict\n",
    "\n",
    "5. Set Types:\tset, frozenset\n",
    "\n",
    "6. Boolean Type:\tbool\n",
    "\n",
    "7. Binary Types:\tbytes, bytearray, memoryview"
   ]
  },
  {
   "cell_type": "markdown",
   "metadata": {},
   "source": [
    "***4. What is an expression made up of? What do all expressions do?***\n",
    "\n",
    "Ans:-\n",
    "\n",
    "An expression is a combination of operators and operands that is interpreted to produce some other value. an expression is evaluated as per the precedence of its operators.So that if there is more than one operator in an expression, their precedence decides which operation will be performed first. We have many different types of expressions in Python\n",
    "\n",
    "1. Constant Expressions: These are the expressions that have constant values only.\n",
    "\n",
    "x = 15 + 1.3\n",
    "\n",
    "2. Arithmetic Expressions: An arithmetic expression is a combination of numeric values, operators, and sometimes parenthesis\n",
    "\n",
    "x = 40\n",
    "y = 12\n",
    "  \n",
    "add = x + y\n",
    "\n",
    "3. Integral Expressions: These are the kind of expressions that produce only integer results after all computations and type conversions.\n",
    "\n",
    "4. Floating Expressions: These are the kind of expressions which produce floating point numbers as result after all computations and type conversions\n",
    "\n",
    "5. Relational Expressions: In these types of expressions, arithmetic expressions are written on both sides of relational operator (> , < , >= , <=). Those arithmetic expressions are evaluated first, and then compared as per relational operator and produce a boolean output in the end. These expressions are also called Boolean expressions.\n",
    "\n",
    "6. Logical Expressions: These are kinds of expressions that result in either True or False. It basically specifies one or more conditions\n",
    "\n",
    "7. Bitwise Expressions: These are the kind of expressions in which computations are performed at bit level\n",
    "\n",
    "8. Combinational Expressions: We can also use different types of expressions in a single expression, and that will be termed as combinational expressions.\n"
   ]
  },
  {
   "cell_type": "markdown",
   "metadata": {},
   "source": [
    "***5. This assignment statements, like spam = 10. What is the difference between an expression and a statement?**\n",
    "\n",
    "Ans:\n",
    "\n",
    "1. Expressions only contain identifiers, literals and operators, where operators include arithmetic and boolean operators, the function call operator () the subscription operator [] and similar, and can be reduced to some kind of \"value\", \n",
    "\n",
    "2. Statements (see 1, 2), on the other hand, are everything that can make up a line (or several lines) of Python code. Note that expressions are statements as well"
   ]
  },
  {
   "cell_type": "code",
   "execution_count": 2,
   "metadata": {},
   "outputs": [
    {
     "data": {
      "text/plain": [
       "23"
      ]
     },
     "execution_count": 2,
     "metadata": {},
     "output_type": "execute_result"
    }
   ],
   "source": [
    "# 6. After running the following code, what does the variable bacon contain?\n",
    "bacon = 22\n",
    "bacon + 1"
   ]
  },
  {
   "cell_type": "markdown",
   "metadata": {},
   "source": [
    "bacon contain value - 23"
   ]
  },
  {
   "cell_type": "code",
   "execution_count": 4,
   "metadata": {},
   "outputs": [
    {
     "data": {
      "text/plain": [
       "'spamspamspam'"
      ]
     },
     "execution_count": 4,
     "metadata": {},
     "output_type": "execute_result"
    }
   ],
   "source": [
    "#7. What should the values of the following two terms be?\n",
    "'spam' + 'spamspam'"
   ]
  },
  {
   "cell_type": "code",
   "execution_count": 5,
   "metadata": {},
   "outputs": [
    {
     "data": {
      "text/plain": [
       "'spamspamspam'"
      ]
     },
     "execution_count": 5,
     "metadata": {},
     "output_type": "execute_result"
    }
   ],
   "source": [
    "'spam' * 3"
   ]
  },
  {
   "cell_type": "markdown",
   "metadata": {},
   "source": [
    "***8. Why is eggs a valid variable name while 100 is invalid?***\n",
    "\n",
    "Ans - Variable name can start with alphabets but NOT with numbers. That is why eggs is a eggs a valid variable name while 100 is invalid."
   ]
  },
  {
   "cell_type": "markdown",
   "metadata": {},
   "source": [
    "***9. What three functions can be used to get the integer, floating-point number, or string version of a value?***\n",
    "\n",
    "Ans :\n",
    "\n",
    "Three functions can be used to get the integer, floating-point number, or string version of a value:-\n",
    "\n",
    "1. int() \n",
    "2. float()\n",
    "3. str()"
   ]
  },
  {
   "cell_type": "markdown",
   "metadata": {},
   "source": [
    "***10. Why does this expression cause an error? How can you fix it?\n",
    "'I have eaten ' + 99 + ' burritos.' ***"
   ]
  },
  {
   "cell_type": "code",
   "execution_count": 6,
   "metadata": {},
   "outputs": [
    {
     "ename": "TypeError",
     "evalue": "can only concatenate str (not \"int\") to str",
     "output_type": "error",
     "traceback": [
      "\u001b[1;31m---------------------------------------------------------------------------\u001b[0m",
      "\u001b[1;31mTypeError\u001b[0m                                 Traceback (most recent call last)",
      "\u001b[1;32m<ipython-input-6-d24137131a5c>\u001b[0m in \u001b[0;36m<module>\u001b[1;34m\u001b[0m\n\u001b[1;32m----> 1\u001b[1;33m \u001b[1;34m'I have eaten '\u001b[0m \u001b[1;33m+\u001b[0m \u001b[1;36m99\u001b[0m \u001b[1;33m+\u001b[0m \u001b[1;34m' burritos.'\u001b[0m\u001b[1;33m\u001b[0m\u001b[1;33m\u001b[0m\u001b[0m\n\u001b[0m",
      "\u001b[1;31mTypeError\u001b[0m: can only concatenate str (not \"int\") to str"
     ]
    }
   ],
   "source": [
    " 'I have eaten ' + 99 + ' burritos.'"
   ]
  },
  {
   "cell_type": "code",
   "execution_count": 7,
   "metadata": {},
   "outputs": [
    {
     "data": {
      "text/plain": [
       "'I have eaten 99 burritos.'"
      ]
     },
     "execution_count": 7,
     "metadata": {},
     "output_type": "execute_result"
    }
   ],
   "source": [
    "#to fix this we will typecast\n",
    "\n",
    "'I have eaten ' + str(\"99\") + ' burritos.'"
   ]
  },
  {
   "cell_type": "code",
   "execution_count": null,
   "metadata": {},
   "outputs": [],
   "source": []
  }
 ],
 "metadata": {
  "kernelspec": {
   "display_name": "Python 3",
   "language": "python",
   "name": "python3"
  },
  "language_info": {
   "codemirror_mode": {
    "name": "ipython",
    "version": 3
   },
   "file_extension": ".py",
   "mimetype": "text/x-python",
   "name": "python",
   "nbconvert_exporter": "python",
   "pygments_lexer": "ipython3",
   "version": "3.7.6"
  }
 },
 "nbformat": 4,
 "nbformat_minor": 4
}
